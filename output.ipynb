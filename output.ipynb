{
 "cells": [
  {
   "cell_type": "code",
   "execution_count": 1,
   "metadata": {
    "inputHidden": false,
    "outputHidden": false,
    "papermill": {
     "duration": 0.008069,
     "end_time": "2018-10-17T10:32:35.265605",
     "exception": false,
     "start_time": "2018-10-17T10:32:35.257536",
     "status": "completed"
    },
    "tags": [
     "parameters"
    ]
   },
   "outputs": [],
   "source": [
    "alpha = 2\n",
    "ratio = 4"
   ]
  },
  {
   "cell_type": "code",
   "execution_count": 2,
   "metadata": {
    "papermill": {
     "duration": 0.029364,
     "end_time": "2018-10-17T10:32:35.295044",
     "exception": false,
     "start_time": "2018-10-17T10:32:35.265680",
     "status": "completed"
    },
    "tags": [
     "injected-parameters"
    ]
   },
   "outputs": [],
   "source": [
    "# Parameters\n",
    "alpha = 100\n",
    "ratio = 10\n"
   ]
  },
  {
   "cell_type": "code",
   "execution_count": 3,
   "metadata": {
    "collapsed": true,
    "outputExpanded": true,
    "papermill": {
     "duration": 2.847639,
     "end_time": "2018-10-17T10:32:38.142770",
     "exception": false,
     "start_time": "2018-10-17T10:32:35.295131",
     "status": "completed"
    },
    "tags": [
     "calculation_result"
    ]
   },
   "outputs": [
    {
     "data": {
      "text/plain": [
       "{'leo': 2000}"
      ]
     },
     "execution_count": 3,
     "metadata": {},
     "output_type": "execute_result"
    }
   ],
   "source": [
    "#output\n",
    "\n",
    "import papermill as pm\n",
    "\n",
    "d1 = dict(ivo = alpha*ratio)\n",
    "d2 = dict(leo = alpha*ratio*2)\n",
    "\n",
    "d2"
   ]
  }
 ],
 "metadata": {
  "celltoolbar": "Tags",
  "kernel_info": {
   "name": "python3"
  },
  "kernelspec": {
   "display_name": "Python 3",
   "language": "python",
   "name": "python3"
  },
  "language_info": {
   "codemirror_mode": {
    "name": "ipython",
    "version": 3
   },
   "file_extension": ".py",
   "mimetype": "text/x-python",
   "name": "python",
   "nbconvert_exporter": "python",
   "pygments_lexer": "ipython3",
   "version": "3.6.3"
  },
  "nteract": {
   "version": "0.11.9"
  },
  "papermill": {
   "duration": 6.369166,
   "end_time": "2018-10-17T10:32:39.376393",
   "environment_variables": {},
   "exception": false,
   "output_path": "./output.ipynb",
   "parameters": {
    "alpha": 100,
    "ratio": 10
   },
   "start_time": "2018-10-17T10:32:33.007227",
   "version": "0.15.1"
  }
 },
 "nbformat": 4,
 "nbformat_minor": 2
}