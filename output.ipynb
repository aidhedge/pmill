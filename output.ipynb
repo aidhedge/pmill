{
 "cells": [
  {
   "cell_type": "code",
   "execution_count": 1,
   "metadata": {
    "inputHidden": false,
    "outputHidden": false,
    "papermill": {
     "duration": 0.009471,
     "end_time": "2018-10-16T21:03:39.993760",
     "exception": false,
     "start_time": "2018-10-16T21:03:39.984289",
     "status": "completed"
    },
    "tags": [
     "parameters"
    ]
   },
   "outputs": [],
   "source": [
    "alpha = 2\n",
    "ratio = 4"
   ]
  },
  {
   "cell_type": "code",
   "execution_count": 2,
   "metadata": {
    "papermill": {
     "duration": 0.014267,
     "end_time": "2018-10-16T21:03:40.009346",
     "exception": false,
     "start_time": "2018-10-16T21:03:39.995079",
     "status": "completed"
    },
    "tags": [
     "injected-parameters"
    ]
   },
   "outputs": [],
   "source": [
    "# Parameters\n",
    "alpha = 100\n",
    "ratio = 10\n"
   ]
  },
  {
   "cell_type": "code",
   "execution_count": 3,
   "metadata": {
    "collapsed": true,
    "outputExpanded": true,
    "papermill": {
     "duration": 0.937757,
     "end_time": "2018-10-16T21:03:40.947258",
     "exception": false,
     "start_time": "2018-10-16T21:03:40.009501",
     "status": "completed"
    },
    "tags": [
     "calculation_result"
    ]
   },
   "outputs": [
    {
     "data": {
      "text/plain": [
       "{'leo': 2000}"
      ]
     },
     "execution_count": 3,
     "metadata": {},
     "output_type": "execute_result"
    }
   ],
   "source": [
    "#output\n",
    "\n",
    "import papermill as pm\n",
    "\n",
    "d1 = dict(ivo = alpha*ratio)\n",
    "d2 = dict(leo = alpha*ratio*2)\n",
    "\n",
    "d2"
   ]
  }
 ],
 "metadata": {
  "celltoolbar": "Tags",
  "kernel_info": {
   "name": "python3"
  },
  "kernelspec": {
   "display_name": "Python 3",
   "language": "python",
   "name": "python3"
  },
  "language_info": {
   "codemirror_mode": {
    "name": "ipython",
    "version": 3
   },
   "file_extension": ".py",
   "mimetype": "text/x-python",
   "name": "python",
   "nbconvert_exporter": "python",
   "pygments_lexer": "ipython3",
   "version": "3.6.3"
  },
  "nteract": {
   "version": "0.11.9"
  },
  "papermill": {
   "duration": 3.523167,
   "end_time": "2018-10-16T21:03:42.143001",
   "environment_variables": {},
   "exception": false,
   "output_path": "./output.ipynb",
   "parameters": {
    "alpha": 100,
    "ratio": 10
   },
   "start_time": "2018-10-16T21:03:38.619834",
   "version": "0.15.1"
  }
 },
 "nbformat": 4,
 "nbformat_minor": 2
}